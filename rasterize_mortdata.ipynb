{
  "nbformat": 4,
  "nbformat_minor": 0,
  "metadata": {
    "colab": {
      "name": "Untitled0.ipynb",
      "provenance": [],
      "authorship_tag": "ABX9TyN8h6nm548CfTgNNn3Vyu9t",
      "include_colab_link": true
    },
    "kernelspec": {
      "name": "python3",
      "display_name": "Python 3"
    },
    "language_info": {
      "name": "python"
    }
  },
  "cells": [
    {
      "cell_type": "markdown",
      "metadata": {
        "id": "view-in-github",
        "colab_type": "text"
      },
      "source": [
        "<a href=\"https://colab.research.google.com/github/revathi-muralid/Module1/blob/master/rasterize_mortdata.ipynb\" target=\"_parent\"><img src=\"https://colab.research.google.com/assets/colab-badge.svg\" alt=\"Open In Colab\"/></a>"
      ]
    },
    {
      "cell_type": "code",
      "metadata": {
        "id": "U45MjHOEseRZ"
      },
      "source": [
        "import netCDF4 as nc\n",
        "from netCDF4 import Dataset\n",
        "from scipy.io import netcdf\n",
        "import matplotlib\n",
        "import numpy as np\n",
        "import pandas as pd\n",
        "import geopandas as gpd\n",
        "import matplotlib.pyplot as plt\n",
        "import os\n",
        "from shapely.geometry import Polygon\n",
        "import gdal\n",
        "import ogr"
      ],
      "execution_count": 8,
      "outputs": []
    },
    {
      "cell_type": "code",
      "metadata": {
        "colab": {
          "base_uri": "https://localhost:8080/"
        },
        "id": "2Xg9k8gxsozR",
        "outputId": "476d51d0-3a65-4012-a152-e90dbd2e4448"
      },
      "source": [
        "#!pip install gdal"
      ],
      "execution_count": 3,
      "outputs": [
        {
          "output_type": "stream",
          "text": [
            "Requirement already satisfied: gdal in /usr/local/lib/python3.7/dist-packages (2.2.2)\n"
          ],
          "name": "stdout"
        }
      ]
    },
    {
      "cell_type": "code",
      "metadata": {
        "colab": {
          "base_uri": "https://localhost:8080/",
          "height": 35
        },
        "id": "wcRkZT-XszeJ",
        "outputId": "e20a23f8-1865-4540-e761-be6b24620082"
      },
      "source": [
        "os.getcwd()"
      ],
      "execution_count": 5,
      "outputs": [
        {
          "output_type": "execute_result",
          "data": {
            "application/vnd.google.colaboratory.intrinsic+json": {
              "type": "string"
            },
            "text/plain": [
              "'/content'"
            ]
          },
          "metadata": {
            "tags": []
          },
          "execution_count": 5
        }
      ]
    },
    {
      "cell_type": "code",
      "metadata": {
        "id": "kBRZq2EYtmnv"
      },
      "source": [
        "### County boundaries shapefile\n",
        "county_shp = gpd.read_file(\"co99_d90.shp\")\n",
        "# print(county_shp.crs) - epsg:4269\n",
        "# Project to Lambert Conic after dropping AK (02) and HI (15)\n",
        "county_shp = county_shp[(county_shp.ST != '02') & (county_shp.ST != \"15\")]\n",
        "county_shp_lamb = county_shp.to_crs(\"ESRI:102004\")"
      ],
      "execution_count": 7,
      "outputs": []
    },
    {
      "cell_type": "code",
      "metadata": {
        "id": "M4bmk7Xnt-Jm"
      },
      "source": [
        "fn_ras = 'aqm.latlon.ncf'\n",
        "#fn_vec = county_shp_lamb.geometry\n",
        "\n",
        "ras_ds = gdal.Open(fn_ras)\n",
        "#vec_ds = gdal.Open(fn_vec)\n",
        "#lyr = vec_ds.GetLayer()\n",
        "\n",
        "geot = ras_ds.GetGeoTransform()"
      ],
      "execution_count": 11,
      "outputs": []
    },
    {
      "cell_type": "code",
      "metadata": {
        "colab": {
          "base_uri": "https://localhost:8080/",
          "height": 198
        },
        "id": "NGPulaLAuiQP",
        "outputId": "52f7c54a-5275-41a9-c06a-22542970aaef"
      },
      "source": [
        "drv_tiff = gdal.GetDriverByName(\"GTiff\")\n",
        "chn_ras_ds = drv_tiff.Create(out_net, ras_ds .RasterXSize, ras_ds .RasterYSize, 1, gdal.GDT_Float32)\n",
        "chn_ras_ds.SetGeoTransform(geot)"
      ],
      "execution_count": 12,
      "outputs": [
        {
          "output_type": "error",
          "ename": "NameError",
          "evalue": "ignored",
          "traceback": [
            "\u001b[0;31m---------------------------------------------------------------------------\u001b[0m",
            "\u001b[0;31mNameError\u001b[0m                                 Traceback (most recent call last)",
            "\u001b[0;32m<ipython-input-12-6e01c4ba0f37>\u001b[0m in \u001b[0;36m<module>\u001b[0;34m()\u001b[0m\n\u001b[1;32m      1\u001b[0m \u001b[0mdrv_tiff\u001b[0m \u001b[0;34m=\u001b[0m \u001b[0mgdal\u001b[0m\u001b[0;34m.\u001b[0m\u001b[0mGetDriverByName\u001b[0m\u001b[0;34m(\u001b[0m\u001b[0;34m\"GTiff\"\u001b[0m\u001b[0;34m)\u001b[0m\u001b[0;34m\u001b[0m\u001b[0;34m\u001b[0m\u001b[0m\n\u001b[0;32m----> 2\u001b[0;31m \u001b[0mchn_ras_ds\u001b[0m \u001b[0;34m=\u001b[0m \u001b[0mdrv_tiff\u001b[0m\u001b[0;34m.\u001b[0m\u001b[0mCreate\u001b[0m\u001b[0;34m(\u001b[0m\u001b[0mout_net\u001b[0m\u001b[0;34m,\u001b[0m \u001b[0mras_ds\u001b[0m \u001b[0;34m.\u001b[0m\u001b[0mRasterXSize\u001b[0m\u001b[0;34m,\u001b[0m \u001b[0mras_ds\u001b[0m \u001b[0;34m.\u001b[0m\u001b[0mRasterYSize\u001b[0m\u001b[0;34m,\u001b[0m \u001b[0;36m1\u001b[0m\u001b[0;34m,\u001b[0m \u001b[0mgdal\u001b[0m\u001b[0;34m.\u001b[0m\u001b[0mGDT_Float32\u001b[0m\u001b[0;34m)\u001b[0m\u001b[0;34m\u001b[0m\u001b[0;34m\u001b[0m\u001b[0m\n\u001b[0m\u001b[1;32m      3\u001b[0m \u001b[0mchn_ras_ds\u001b[0m\u001b[0;34m.\u001b[0m\u001b[0mSetGeoTransform\u001b[0m\u001b[0;34m(\u001b[0m\u001b[0mgeot\u001b[0m\u001b[0;34m)\u001b[0m\u001b[0;34m\u001b[0m\u001b[0;34m\u001b[0m\u001b[0m\n",
            "\u001b[0;31mNameError\u001b[0m: name 'out_net' is not defined"
          ]
        }
      ]
    },
    {
      "cell_type": "code",
      "metadata": {
        "id": "ehrrOXldujEX"
      },
      "source": [
        "gdal.RasterizeLayer(chn_ras_ds, [1], lyr, options=['ATTRIBUTE=chn_id'])\n",
        "chn_ras_ds.GetRasterBand(1).SetNoDataValue(0.0)\n",
        "chn_ras_ds = None"
      ],
      "execution_count": null,
      "outputs": []
    }
  ]
}